{
 "cells": [
  {
   "cell_type": "code",
   "execution_count": 22,
   "metadata": {},
   "outputs": [],
   "source": [
    "from flask import Flask, request, jsonify\n",
    "import joblib\n",
    "\n",
    "sample_data = {\"data\":[1,2,3,4,53,11,22,37,41,53,11,24,31,44,53,11,22,35,42,53,12,23,31,42,53]}\n",
    "\n",
    "\n",
    "model = joblib.load(\"../Milestone_3/model_updated.joblib\")\n",
    "\n",
    "# 2. Define a prediction function\n",
    "def return_prediction(input_data):\n",
    "\n",
    "    # format input_data here so that you can pass it to model.predict()\n",
    "    formatted_data = [input_data[\"data\"]]\n",
    "\n",
    "    return model.predict(formatted_data)"
   ]
  },
  {
   "cell_type": "code",
   "execution_count": 23,
   "metadata": {},
   "outputs": [
    {
     "name": "stderr",
     "output_type": "stream",
     "text": [
      "/Users/tuanzai/opt/miniconda3/lib/python3.9/site-packages/sklearn/base.py:450: UserWarning: X does not have valid feature names, but RandomForestRegressor was fitted with feature names\n",
      "  warnings.warn(\n"
     ]
    },
    {
     "data": {
      "text/plain": [
       "4.071459042986274"
      ]
     },
     "execution_count": 23,
     "metadata": {},
     "output_type": "execute_result"
    }
   ],
   "source": [
    "return_prediction(sample_data)[0]"
   ]
  },
  {
   "cell_type": "code",
   "execution_count": 24,
   "metadata": {},
   "outputs": [
    {
     "name": "stdout",
     "output_type": "stream",
     "text": [
      "{\n",
      "  \"prediction\": 4.071459042986274\n",
      "}\n"
     ]
    }
   ],
   "source": [
    "! curl -X POST http://127.0.0.1:5052/predict -d '{\"data\": \"1, 2, 3, 4, 53, 11, 22, 37, 41, 53, 11, 24, 31, 44, 53, 11, 22, 35, 42, 53, 12, 23, 31, 42, 53\"}' -H \"Content-Type: application/json\"\n"
   ]
  },
  {
   "cell_type": "code",
   "execution_count": null,
   "metadata": {},
   "outputs": [],
   "source": []
  }
 ],
 "metadata": {
  "interpreter": {
   "hash": "414fe57d044de946bf9d041c0416f862a87762676867e6c6ae283eee01bd4dcc"
  },
  "kernelspec": {
   "display_name": "Python 3.9.7 ('base')",
   "language": "python",
   "name": "python3"
  },
  "language_info": {
   "codemirror_mode": {
    "name": "ipython",
    "version": 3
   },
   "file_extension": ".py",
   "mimetype": "text/x-python",
   "name": "python",
   "nbconvert_exporter": "python",
   "pygments_lexer": "ipython3",
   "version": "3.9.12"
  },
  "orig_nbformat": 4
 },
 "nbformat": 4,
 "nbformat_minor": 2
}
