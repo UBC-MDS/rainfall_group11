{
 "cells": [
  {
   "cell_type": "code",
   "execution_count": 2,
   "metadata": {},
   "outputs": [],
   "source": [
    "import os\n",
    "import json\n",
    "import zipfile\n",
    "import requests\n",
    "from urllib.request import urlretrieve\n",
    "\n",
    "import pandas as pd\n",
    "import re\n",
    "import glob\n",
    "import time\n"
   ]
  },
  {
   "cell_type": "markdown",
   "metadata": {},
   "source": [
    "## Download Data"
   ]
  },
  {
   "cell_type": "code",
   "execution_count": 2,
   "metadata": {},
   "outputs": [],
   "source": [
    "article_id = 14096681  # this is the unique identifier of the article on figshare\n",
    "url = f\"https://api.figshare.com/v2/articles/{article_id}/versions/3\"\n",
    "headers = {\"Content-Type\": \"application/json\"}\n",
    "\n",
    "\n",
    "response = requests.request(\"GET\", url, headers=headers)\n",
    "data = json.loads(response.text)[\"files\"]\n",
    "\n",
    "download_url = [item[\"download_url\"] for item in data if item[\"name\"] == \"data.zip\"][0]\n",
    "download_url\n",
    "\n",
    "output_directory = \"data/\"\n",
    "if not os.path.exists(output_directory):\n",
    "    os.mkdir(output_directory)\n",
    "    \n",
    "urlretrieve(download_url, output_directory + \"rainfall.zip\")\n",
    "\n",
    "with zipfile.ZipFile(os.path.join(output_directory, \"rainfall.zip\"), 'r') as f:\n",
    "    f.extractall(output_directory)\n",
    "# output_directory = \"figshareairline/\""
   ]
  },
  {
   "cell_type": "markdown",
   "metadata": {},
   "source": [
    "## Combine CSV"
   ]
  },
  {
   "cell_type": "markdown",
   "metadata": {},
   "source": [
    "### Combine all the CSVs using Python"
   ]
  },
  {
   "cell_type": "code",
   "execution_count": 3,
   "metadata": {},
   "outputs": [
    {
     "name": "stdout",
     "output_type": "stream",
     "text": [
      "CPU times: total: 8min 56s\n",
      "Wall time: 9min 1s\n"
     ]
    }
   ],
   "source": [
    "%%time\n",
    "files = glob.glob(\"data/*.csv\")\n",
    "files.remove(\"data\\\\observed_daily_rainfall_SYD.csv\")\n",
    "df = pd.concat(\n",
    "    (pd.read_csv(file, index_col=0, parse_dates=['time'])\n",
    "     .assign(model=re.findall(r'[^\\/&\\\\]+(?=_daily_rainfall_NSW\\.)', file)[0])\n",
    "        )\n",
    "     for file in files\n",
    ")\n",
    "df.to_csv(\"data/combined_data.csv\")\n"
   ]
  },
  {
   "cell_type": "code",
   "execution_count": 4,
   "metadata": {},
   "outputs": [
    {
     "data": {
      "text/html": [
       "<div>\n",
       "<style scoped>\n",
       "    .dataframe tbody tr th:only-of-type {\n",
       "        vertical-align: middle;\n",
       "    }\n",
       "\n",
       "    .dataframe tbody tr th {\n",
       "        vertical-align: top;\n",
       "    }\n",
       "\n",
       "    .dataframe thead th {\n",
       "        text-align: right;\n",
       "    }\n",
       "</style>\n",
       "<table border=\"1\" class=\"dataframe\">\n",
       "  <thead>\n",
       "    <tr style=\"text-align: right;\">\n",
       "      <th></th>\n",
       "      <th>lat_min</th>\n",
       "      <th>lat_max</th>\n",
       "      <th>lon_min</th>\n",
       "      <th>lon_max</th>\n",
       "      <th>rain (mm/day)</th>\n",
       "      <th>model</th>\n",
       "    </tr>\n",
       "    <tr>\n",
       "      <th>time</th>\n",
       "      <th></th>\n",
       "      <th></th>\n",
       "      <th></th>\n",
       "      <th></th>\n",
       "      <th></th>\n",
       "      <th></th>\n",
       "    </tr>\n",
       "  </thead>\n",
       "  <tbody>\n",
       "    <tr>\n",
       "      <th>1889-01-01 12:00:00</th>\n",
       "      <td>-36.25</td>\n",
       "      <td>-35.0</td>\n",
       "      <td>140.625</td>\n",
       "      <td>142.5</td>\n",
       "      <td>3.293256e-13</td>\n",
       "      <td>ACCESS-CM2</td>\n",
       "    </tr>\n",
       "    <tr>\n",
       "      <th>1889-01-02 12:00:00</th>\n",
       "      <td>-36.25</td>\n",
       "      <td>-35.0</td>\n",
       "      <td>140.625</td>\n",
       "      <td>142.5</td>\n",
       "      <td>0.000000e+00</td>\n",
       "      <td>ACCESS-CM2</td>\n",
       "    </tr>\n",
       "    <tr>\n",
       "      <th>1889-01-03 12:00:00</th>\n",
       "      <td>-36.25</td>\n",
       "      <td>-35.0</td>\n",
       "      <td>140.625</td>\n",
       "      <td>142.5</td>\n",
       "      <td>0.000000e+00</td>\n",
       "      <td>ACCESS-CM2</td>\n",
       "    </tr>\n",
       "    <tr>\n",
       "      <th>1889-01-04 12:00:00</th>\n",
       "      <td>-36.25</td>\n",
       "      <td>-35.0</td>\n",
       "      <td>140.625</td>\n",
       "      <td>142.5</td>\n",
       "      <td>0.000000e+00</td>\n",
       "      <td>ACCESS-CM2</td>\n",
       "    </tr>\n",
       "    <tr>\n",
       "      <th>1889-01-05 12:00:00</th>\n",
       "      <td>-36.25</td>\n",
       "      <td>-35.0</td>\n",
       "      <td>140.625</td>\n",
       "      <td>142.5</td>\n",
       "      <td>1.047658e-02</td>\n",
       "      <td>ACCESS-CM2</td>\n",
       "    </tr>\n",
       "  </tbody>\n",
       "</table>\n",
       "</div>"
      ],
      "text/plain": [
       "                     lat_min  lat_max  lon_min  lon_max  rain (mm/day)  \\\n",
       "time                                                                     \n",
       "1889-01-01 12:00:00   -36.25    -35.0  140.625    142.5   3.293256e-13   \n",
       "1889-01-02 12:00:00   -36.25    -35.0  140.625    142.5   0.000000e+00   \n",
       "1889-01-03 12:00:00   -36.25    -35.0  140.625    142.5   0.000000e+00   \n",
       "1889-01-04 12:00:00   -36.25    -35.0  140.625    142.5   0.000000e+00   \n",
       "1889-01-05 12:00:00   -36.25    -35.0  140.625    142.5   1.047658e-02   \n",
       "\n",
       "                          model  \n",
       "time                             \n",
       "1889-01-01 12:00:00  ACCESS-CM2  \n",
       "1889-01-02 12:00:00  ACCESS-CM2  \n",
       "1889-01-03 12:00:00  ACCESS-CM2  \n",
       "1889-01-04 12:00:00  ACCESS-CM2  \n",
       "1889-01-05 12:00:00  ACCESS-CM2  "
      ]
     },
     "execution_count": 4,
     "metadata": {},
     "output_type": "execute_result"
    }
   ],
   "source": [
    "df.head(5)"
   ]
  },
  {
   "cell_type": "markdown",
   "metadata": {},
   "source": [
    "#### Combine CSVs Time taken in each machine\n",
    "\n"
   ]
  },
  {
   "cell_type": "markdown",
   "metadata": {},
   "source": [
    "| Team Member | Operating System | RAM | Processor | Is SSD | Time taken |\n",
    "|:-----------:|:----------------:|:---:|:---------:|:------:|:----------:|\n",
    "| Khalid      |   macOS Big Sur  | 8GB |    Intel  |   Y    |    8min    |\n",
    "| Andy        |    Windows 10    | 16GB| Intel i7  |   Y    |  8min 36s  |\n",
    "| Valli       |                  |     |           |        |            |\n",
    "| Tuan        |                  |     |           |        |            |"
   ]
  },
  {
   "cell_type": "markdown",
   "metadata": {},
   "source": [
    "## Observations"
   ]
  },
  {
   "cell_type": "code",
   "execution_count": 5,
   "metadata": {},
   "outputs": [],
   "source": [
    "%load_ext memory_profiler"
   ]
  },
  {
   "cell_type": "code",
   "execution_count": 6,
   "metadata": {},
   "outputs": [
    {
     "name": "stdout",
     "output_type": "stream",
     "text": [
      "Wall time: 1min 11s\n"
     ]
    },
    {
     "data": {
      "text/plain": [
       "<AxesSubplot:>"
      ]
     },
     "execution_count": 6,
     "metadata": {},
     "output_type": "execute_result"
    },
    {
     "data": {
      "image/png": "[encoded data removed]",
      "text/plain": [
       "<Figure size 360x360 with 1 Axes>"
      ]
     },
     "metadata": {
      "needs_background": "light"
     },
     "output_type": "display_data"
    }
   ],
   "source": [
    "%%time\n",
    "df = pd.read_csv(\"data/combined_data.csv\", index_col=0)\n",
    "df[\"rain (mm/day)\"].hist(figsize=(5, 5), bins=30)"
   ]
  },
  {
   "cell_type": "markdown",
   "metadata": {},
   "source": [
    "| Team Member | Operating System | RAM | Processor | Is SSD | Time taken |\n",
    "|:-----------:|:----------------:|:---:|:---------:|:------:|:----------:|\n",
    "| Khalid      |   macOS Big Sur  | 8GB |    Intel  |   Y    |    1:41    |\n",
    "| Andy        |    Windows 10    | 16GB| Intel i7  |   Y    |    1:11    |\n",
    "| Valli       |                  |     |           |        |            |\n",
    "| Tuan        |                  |     |           |        |            |"
   ]
  },
  {
   "cell_type": "markdown",
   "metadata": {},
   "source": [
    "**Approach 1: Change the data type**"
   ]
  },
  {
   "cell_type": "code",
   "execution_count": 7,
   "metadata": {},
   "outputs": [
    {
     "name": "stdout",
     "output_type": "stream",
     "text": [
      "float64 memory usage: 2998.46 MB\n",
      "float32 memory usage: 1749.10 MB\n"
     ]
    }
   ],
   "source": [
    "print(f\"float64 memory usage: {df[['lat_min','lat_max','lon_min','lon_max','rain (mm/day)']].memory_usage().sum() / 1e6:.2f} MB\")\n",
    "print(f\"float32 memory usage: {df[['lat_min','lat_max','lon_min','lon_max','rain (mm/day)']].astype('float32', errors='ignore').memory_usage().sum() / 1e6:.2f} MB\")"
   ]
  },
  {
   "cell_type": "code",
   "execution_count": 8,
   "metadata": {},
   "outputs": [
    {
     "name": "stdout",
     "output_type": "stream",
     "text": [
      "peak memory: 5783.84 MiB, increment: 2348.91 MiB\n",
      "Wall time: 3.79 s\n"
     ]
    },
    {
     "data": {
      "image/png": "[encoded data removed]",
      "text/plain": [
       "<Figure size 360x360 with 1 Axes>"
      ]
     },
     "metadata": {
      "needs_background": "light"
     },
     "output_type": "display_data"
    }
   ],
   "source": [
    "%%time\n",
    "%%memit\n",
    "df_dtype = df.astype({'lat_min': 'float32',\n",
    "                      'lat_max': 'float32',\n",
    "                      'lon_min': 'float32',\n",
    "                      'lon_max': 'float32',\n",
    "                      'rain (mm/day)': 'float32'})\n",
    "df_dtype[\"rain (mm/day)\"].hist(figsize=(5, 5), bins=30)"
   ]
  },
  {
   "cell_type": "markdown",
   "metadata": {},
   "source": [
    "| Team Member | Operating System | RAM | Processor | Is SSD | Time taken |\n",
    "|:-----------:|:----------------:|:---:|:---------:|:------:|:----------:|\n",
    "| Khalid      |   macOS Big Sur  | 8GB |    Intel  |   Y    |    15s     |\n",
    "| Andy        |    Windows 10    | 16GB| Intel i7  |   Y    |    3.8s    |\n",
    "| Valli       |                  |     |           |        |            |\n",
    "| Tuan        |                  |     |           |        |            |"
   ]
  },
  {
   "cell_type": "markdown",
   "metadata": {},
   "source": [
    "**Observations**\n",
    "\n",
    "- Changing the data type from float64 to float32 drastically improved the time taken from almost 2 minutes to mere 15 seconds\n",
    "- Changing the data type also reduced the memory usage by half, which is a lot of saved memory!"
   ]
  },
  {
   "cell_type": "markdown",
   "metadata": {},
   "source": [
    "**Loading all the necessary columns**\n"
   ]
  },
  {
   "cell_type": "markdown",
   "metadata": {},
   "source": [
    "%%time\n",
    "%%memit\n",
    "useful_cols = ['time','rain (mm/day)']\n",
    "df_columns = pd.read_csv(\"data/combined_data.csv\",usecols=useful_cols)\n",
    "df_columns[\"rain (mm/day)\"].hist(figsize=(5, 5), bins=30)"
   ]
  },
  {
   "cell_type": "markdown",
   "metadata": {},
   "source": [
    "| Team Member | Operating System | RAM | Processor | Is SSD | Time taken |\n",
    "|:-----------:|:----------------:|:---:|:---------:|:------:|:----------:|\n",
    "| Khalid      |   macOS Big Sur  | 8GB |    Intel  |   Y    |     1min   |\n",
    "| Andy        |    Windows 10    | 16GB| Intel i7  |   Y    |    48.8s   |\n",
    "| Valli       |                  |     |           |        |            |\n",
    "| Tuan        |                  |     |           |        |            |"
   ]
  },
  {
   "cell_type": "markdown",
   "metadata": {},
   "source": [
    "**Observations**\n",
    "\n",
    "Loading only the necessary columns reduced the processing time down to 1min (from 1min 40s). However, this is not as large of a improvement than changing the data type."
   ]
  },
  {
   "cell_type": "markdown",
   "metadata": {},
   "source": [
    "## Python to R"
   ]
  },
  {
   "cell_type": "markdown",
   "metadata": {},
   "source": [
    "### Transfer Using Parquet File\n",
    "\n",
    "Data was transferred from Python to R using the Parquet data format. This format was chosen because of its widespread use and consistency, in addition to it's advantages over traditional CSV formats such as data partitioning, projection and predicate pushdown. It is easy to use with rarrow, making reading the parquet file into R easy and quick. Transferring the data into a parquet file also ensures that there are no limitations on dataframe transfer sizes from python to R, as can be encountered when using pandas exchange. Notably, the Parquet file is also usable for additional applications outside of python to R transfer, and is stable for such use cases unlike Feather."
   ]
  },
  {
   "cell_type": "code",
   "execution_count": null,
   "metadata": {},
   "outputs": [],
   "source": [
    "df.to_parquet(\"data/combined_rainfall_data.parquet\", partition_cols=['model'])"
   ]
  },
  {
   "cell_type": "code",
   "execution_count": 4,
   "metadata": {},
   "outputs": [
    {
     "name": "stderr",
     "output_type": "stream",
     "text": [
      "C:\\Users\\andy8\\miniconda3\\envs\\525_2022\\lib\\site-packages\\rpy2\\robjects\\packages.py:366: UserWarning: The symbol 'quartz' is not in this R namespace/package.\n",
      "  warnings.warn(\n"
     ]
    }
   ],
   "source": [
    "%load_ext rpy2.ipython"
   ]
  },
  {
   "cell_type": "code",
   "execution_count": 5,
   "metadata": {},
   "outputs": [
    {
     "name": "stdout",
     "output_type": "stream",
     "text": [
      "\u001b[38;5;246m# A tibble: 6 x 4\u001b[39m\n",
      "  time                lat_min lon_min `rain (mm/day)`\n",
      "  \u001b[3m\u001b[38;5;246m<dttm>\u001b[39m\u001b[23m                \u001b[3m\u001b[38;5;246m<dbl>\u001b[39m\u001b[23m   \u001b[3m\u001b[38;5;246m<dbl>\u001b[39m\u001b[23m           \u001b[3m\u001b[38;5;246m<dbl>\u001b[39m\u001b[23m\n",
      "\u001b[38;5;250m1\u001b[39m 1889-01-01 \u001b[38;5;246m04:00:00\u001b[39m   -\u001b[31m36\u001b[39m\u001b[31m.\u001b[39m\u001b[31m3\u001b[39m    142.        1.29\u001b[38;5;246me\u001b[39m\u001b[31m-24\u001b[39m\n",
      "\u001b[38;5;250m2\u001b[39m 1889-01-02 \u001b[38;5;246m04:00:00\u001b[39m   -\u001b[31m36\u001b[39m\u001b[31m.\u001b[39m\u001b[31m3\u001b[39m    142.        1.28\u001b[38;5;246me\u001b[39m\u001b[31m-24\u001b[39m\n",
      "\u001b[38;5;250m3\u001b[39m 1889-01-03 \u001b[38;5;246m04:00:00\u001b[39m   -\u001b[31m36\u001b[39m\u001b[31m.\u001b[39m\u001b[31m3\u001b[39m    142.        1.50\u001b[38;5;246me\u001b[39m\u001b[31m-17\u001b[39m\n",
      "\u001b[38;5;250m4\u001b[39m 1889-01-04 \u001b[38;5;246m04:00:00\u001b[39m   -\u001b[31m36\u001b[39m\u001b[31m.\u001b[39m\u001b[31m3\u001b[39m    142.        1.01\u001b[38;5;246me\u001b[39m\u001b[31m- 1\u001b[39m\n",
      "\u001b[38;5;250m5\u001b[39m 1889-01-05 \u001b[38;5;246m04:00:00\u001b[39m   -\u001b[31m36\u001b[39m\u001b[31m.\u001b[39m\u001b[31m3\u001b[39m    142.        4.58\u001b[38;5;246me\u001b[39m\u001b[31m- 1\u001b[39m\n",
      "\u001b[38;5;250m6\u001b[39m 1889-01-06 \u001b[38;5;246m04:00:00\u001b[39m   -\u001b[31m36\u001b[39m\u001b[31m.\u001b[39m\u001b[31m3\u001b[39m    142.        6.25\u001b[38;5;246me\u001b[39m+ 0\n"
     ]
    }
   ],
   "source": [
    "%%R\n",
    "suppressMessages(library(arrow, warn.conflicts = FALSE))\n",
    "suppressMessages(library(dplyr, warn.conflicts = FALSE))\n",
    "suppressMessages(library(ggplot2, warn.conflicts = FALSE))\n",
    "\n",
    "df_R <- open_dataset(\"data/combined_rainfall_data.parquet\")\n",
    "df_filt <- df_R |>\n",
    "    select(time, lat_min, lon_min, `rain (mm/day)`) |>\n",
    "    collect()\n",
    "\n",
    "head(df_filt)"
   ]
  },
  {
   "cell_type": "code",
   "execution_count": 15,
   "metadata": {},
   "outputs": [
    {
     "data": {
      "image/png": "[encoded data removed]"
     },
     "metadata": {},
     "output_type": "display_data"
    }
   ],
   "source": [
    "%%R\n",
    "\n",
    "df_line <- df_filt |>\n",
    "    group_by(time)|>\n",
    "    summarize(mean_rainfall = mean(`rain (mm/day)`, na.rm = TRUE))\n",
    "\n",
    "line_plot <- ggplot(df_line, aes(x = time, y = mean_rainfall)) +\n",
    "    geom_line() +\n",
    "    ggtitle(\"Time vs rainfall\") +\n",
    "    xlab(\"Time\") +\n",
    "    ylab(\"Rainfall (mm/day)\") + \n",
    "    theme(\n",
    "        axis.title=element_text(size=20),\n",
    "        plot.title=element_text(size=20),\n",
    "        axis.text=element_text(size=12)\n",
    "    )\n",
    "\n",
    "line_plot"
   ]
  },
  {
   "cell_type": "code",
   "execution_count": 16,
   "metadata": {},
   "outputs": [
    {
     "data": {
      "image/png": "[encoded data removed]"
     },
     "metadata": {},
     "output_type": "display_data"
    }
   ],
   "source": [
    "%%R\n",
    "       \n",
    "df_lat <- df_filt |>\n",
    "    group_by(lat_min)|>\n",
    "    summarize(mean_rainfall = mean(`rain (mm/day)`, na.rm = TRUE))\n",
    "\n",
    "lat_scatter <- ggplot(df_lat, aes(x = lat_min, y = mean_rainfall)) +\n",
    "    geom_point() +\n",
    "    ggtitle(\"Rainfall vs Latitude\") +\n",
    "    xlab(\"Latitude\") +\n",
    "    ylab(\"Rainfall (mm/day)\") + \n",
    "    theme(\n",
    "        axis.title=element_text(size=20),\n",
    "        plot.title=element_text(size=20),\n",
    "        axis.text=element_text(size=12)\n",
    "    )\n",
    "\n",
    "lat_scatter"
   ]
  },
  {
   "cell_type": "code",
   "execution_count": 17,
   "metadata": {},
   "outputs": [
    {
     "data": {
      "image/png": "[encoded data removed]"
     },
     "metadata": {},
     "output_type": "display_data"
    }
   ],
   "source": [
    "%%R\n",
    "       \n",
    "df_lon <- df_filt |>\n",
    "    group_by(lon_min)|>\n",
    "    summarize(mean_rainfall = mean(`rain (mm/day)`, na.rm = TRUE))\n",
    "\n",
    "lon_scatter <- ggplot(df_lon, aes(x = lon_min, y = mean_rainfall)) +\n",
    "    geom_point() +\n",
    "    ggtitle(\"Rainfall vs Latitude\") +\n",
    "    xlab(\"Longitude\") +\n",
    "    ylab(\"Rainfall (mm/day)\") +\n",
    "    theme(\n",
    "        axis.title=element_text(size=20),\n",
    "        plot.title=element_text(size=20),\n",
    "        axis.text=element_text(size=12)\n",
    "    )\n",
    "\n",
    "\n",
    "lon_scatter"
   ]
  },
  {
   "cell_type": "code",
   "execution_count": null,
   "metadata": {},
   "outputs": [],
   "source": [
    "%%R\n",
    "\n",
    "hist <- ggplot(df_filt, aes(x = `rain (mm/day)`)) +\n",
    "    geom_histogram(bins=30) +\n",
    "    ggtitle(\"Rainfall distribution\") +\n",
    "    xlab(\"rainfall (mm/day)\") +\n",
    "    ylab(\"Number of entries\") +\n",
    "    theme(\n",
    "        axis.title=element_text(size=20),\n",
    "        plot.title=element_text(size=20),\n",
    "        axis.text=element_text(size=12)\n",
    "    )\n",
    "\n",
    "hist"
   ]
  },
  {
   "cell_type": "code",
   "execution_count": null,
   "metadata": {},
   "outputs": [],
   "source": []
  }
 ],
 "metadata": {
  "interpreter": {
   "hash": "414fe57d044de946bf9d041c0416f862a87762676867e6c6ae283eee01bd4dcc"
  },
  "kernelspec": {
   "display_name": "525",
   "language": "python",
   "name": "525"
  },
  "language_info": {
   "codemirror_mode": {
    "name": "ipython",
    "version": 3
   },
   "file_extension": ".py",
   "mimetype": "text/x-python",
   "name": "python",
   "nbconvert_exporter": "python",
   "pygments_lexer": "ipython3",
   "version": "3.8.6"
  }
 },
 "nbformat": 4,
 "nbformat_minor": 4
}
